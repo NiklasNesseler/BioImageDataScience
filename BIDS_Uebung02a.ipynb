{
  "nbformat": 4,
  "nbformat_minor": 0,
  "metadata": {
    "colab": {
      "provenance": []
    },
    "kernelspec": {
      "name": "python3",
      "display_name": "Python 3"
    },
    "language_info": {
      "name": "python"
    }
  },
  "cells": [
    {
      "cell_type": "code",
      "execution_count": 13,
      "metadata": {
        "id": "OE_TtZbqDw6p"
      },
      "outputs": [],
      "source": [
        "import numpy as np\n",
        "from matplotlib.pyplot import imshow"
      ]
    },
    {
      "cell_type": "code",
      "source": [
        "raw_image_array = [\n",
        "    [1, 0, 2, 1, 0, 0, 0],\n",
        "    [0, 3, 1, 0, 1, 0, 1],\n",
        "    [0, 5, 5, 1, 0, 1, 0],\n",
        "    [0, 6, 6, 5, 1, 0, 2],\n",
        "    [0, 0, 5, 6, 3, 0, 1],\n",
        "    [0, 1, 2, 1, 0, 0, 1],\n",
        "    [1, 0, 1, 0, 0, 1, 0]\n",
        "]\n",
        "raw_image_array"
      ],
      "metadata": {
        "colab": {
          "base_uri": "https://localhost:8080/"
        },
        "id": "LQXE78tND7Cu",
        "outputId": "9e9f34ff-b852-4dae-8884-5d9830c96842"
      },
      "execution_count": 14,
      "outputs": [
        {
          "output_type": "execute_result",
          "data": {
            "text/plain": [
              "[[1, 0, 2, 1, 0, 0, 0],\n",
              " [0, 3, 1, 0, 1, 0, 1],\n",
              " [0, 5, 5, 1, 0, 1, 0],\n",
              " [0, 6, 6, 5, 1, 0, 2],\n",
              " [0, 0, 5, 6, 3, 0, 1],\n",
              " [0, 1, 2, 1, 0, 0, 1],\n",
              " [1, 0, 1, 0, 0, 1, 0]]"
            ]
          },
          "metadata": {},
          "execution_count": 14
        }
      ]
    },
    {
      "cell_type": "code",
      "source": [
        "image = np.asarray(raw_image_array)"
      ],
      "metadata": {
        "id": "OhwzjxTxEMyG"
      },
      "execution_count": 15,
      "outputs": []
    },
    {
      "cell_type": "code",
      "source": [
        "image"
      ],
      "metadata": {
        "colab": {
          "base_uri": "https://localhost:8080/"
        },
        "id": "Yi_10l7JEQmt",
        "outputId": "3c67c620-bc60-4b6b-a792-32b15a042989"
      },
      "execution_count": 16,
      "outputs": [
        {
          "output_type": "execute_result",
          "data": {
            "text/plain": [
              "array([[1, 0, 2, 1, 0, 0, 0],\n",
              "       [0, 3, 1, 0, 1, 0, 1],\n",
              "       [0, 5, 5, 1, 0, 1, 0],\n",
              "       [0, 6, 6, 5, 1, 0, 2],\n",
              "       [0, 0, 5, 6, 3, 0, 1],\n",
              "       [0, 1, 2, 1, 0, 0, 1],\n",
              "       [1, 0, 1, 0, 0, 1, 0]])"
            ]
          },
          "metadata": {},
          "execution_count": 16
        }
      ]
    },
    {
      "cell_type": "code",
      "source": [
        "image - 2"
      ],
      "metadata": {
        "colab": {
          "base_uri": "https://localhost:8080/"
        },
        "id": "f1YxKzkUET8o",
        "outputId": "bf0f7911-69a9-4479-d904-0b6b9b80c140"
      },
      "execution_count": 17,
      "outputs": [
        {
          "output_type": "execute_result",
          "data": {
            "text/plain": [
              "array([[-1, -2,  0, -1, -2, -2, -2],\n",
              "       [-2,  1, -1, -2, -1, -2, -1],\n",
              "       [-2,  3,  3, -1, -2, -1, -2],\n",
              "       [-2,  4,  4,  3, -1, -2,  0],\n",
              "       [-2, -2,  3,  4,  1, -2, -1],\n",
              "       [-2, -1,  0, -1, -2, -2, -1],\n",
              "       [-1, -2, -1, -2, -2, -1, -2]])"
            ]
          },
          "metadata": {},
          "execution_count": 17
        }
      ]
    },
    {
      "cell_type": "code",
      "source": [
        "imshow(raw_image_array)"
      ],
      "metadata": {
        "colab": {
          "base_uri": "https://localhost:8080/",
          "height": 448
        },
        "id": "eWzv-O_3EWdv",
        "outputId": "9f3dd0f9-4ea1-4956-d54a-8e499c47bc26"
      },
      "execution_count": 18,
      "outputs": [
        {
          "output_type": "execute_result",
          "data": {
            "text/plain": [
              "<matplotlib.image.AxesImage at 0x7d729756b810>"
            ]
          },
          "metadata": {},
          "execution_count": 18
        },
        {
          "output_type": "display_data",
          "data": {
            "text/plain": [
              "<Figure size 640x480 with 1 Axes>"
            ],
            "image/png": "[encoded data removed]"
          },
          "metadata": {}
        }
      ]
    },
    {
      "cell_type": "code",
      "source": [
        "image.shape"
      ],
      "metadata": {
        "colab": {
          "base_uri": "https://localhost:8080/"
        },
        "id": "DlAoKFGaEiMi",
        "outputId": "4d9168ee-9d42-4981-f7a1-d10bed8ed53a"
      },
      "execution_count": 19,
      "outputs": [
        {
          "output_type": "execute_result",
          "data": {
            "text/plain": [
              "(7, 7)"
            ]
          },
          "metadata": {},
          "execution_count": 19
        }
      ]
    },
    {
      "cell_type": "code",
      "source": [
        "image.dtype"
      ],
      "metadata": {
        "colab": {
          "base_uri": "https://localhost:8080/"
        },
        "id": "nVsOBNOuEkVT",
        "outputId": "2df8f34e-1ad4-4f00-c0a7-7854a89b969f"
      },
      "execution_count": 20,
      "outputs": [
        {
          "output_type": "execute_result",
          "data": {
            "text/plain": [
              "dtype('int64')"
            ]
          },
          "metadata": {},
          "execution_count": 20
        }
      ]
    },
    {
      "cell_type": "code",
      "source": [
        "image_size = (6,5)\n",
        "image1 = np.zeros(image_size)\n",
        "image1"
      ],
      "metadata": {
        "colab": {
          "base_uri": "https://localhost:8080/"
        },
        "id": "fqNjLatFEn5H",
        "outputId": "9a2585c0-c85d-4873-a9c6-7f602c42dd0e"
      },
      "execution_count": 21,
      "outputs": [
        {
          "output_type": "execute_result",
          "data": {
            "text/plain": [
              "array([[0., 0., 0., 0., 0.],\n",
              "       [0., 0., 0., 0., 0.],\n",
              "       [0., 0., 0., 0., 0.],\n",
              "       [0., 0., 0., 0., 0.],\n",
              "       [0., 0., 0., 0., 0.],\n",
              "       [0., 0., 0., 0., 0.]])"
            ]
          },
          "metadata": {},
          "execution_count": 21
        }
      ]
    },
    {
      "cell_type": "code",
      "source": [
        "imshow(image1)"
      ],
      "metadata": {
        "colab": {
          "base_uri": "https://localhost:8080/",
          "height": 448
        },
        "id": "EPtJB_gRE8x_",
        "outputId": "70f23b71-a67f-4793-8e47-c3dc9e49420a"
      },
      "execution_count": 22,
      "outputs": [
        {
          "output_type": "execute_result",
          "data": {
            "text/plain": [
              "<matplotlib.image.AxesImage at 0x7d7297410dd0>"
            ]
          },
          "metadata": {},
          "execution_count": 22
        },
        {
          "output_type": "display_data",
          "data": {
            "text/plain": [
              "<Figure size 640x480 with 1 Axes>"
            ],
            "image/png": "[encoded data removed]"
          },
          "metadata": {}
        }
      ]
    },
    {
      "cell_type": "code",
      "source": [
        "image1[0,3] = 1\n",
        "imshow(image1)"
      ],
      "metadata": {
        "colab": {
          "base_uri": "https://localhost:8080/",
          "height": 448
        },
        "id": "FroHJIV-E1Hg",
        "outputId": "8e8462c3-1ecc-4f7e-dd64-5151b35fe0d7"
      },
      "execution_count": 23,
      "outputs": [
        {
          "output_type": "execute_result",
          "data": {
            "text/plain": [
              "<matplotlib.image.AxesImage at 0x7d7297556d10>"
            ]
          },
          "metadata": {},
          "execution_count": 23
        },
        {
          "output_type": "display_data",
          "data": {
            "text/plain": [
              "<Figure size 640x480 with 1 Axes>"
            ],
            "image/png": "[encoded data removed]"
          },
          "metadata": {}
        }
      ]
    },
    {
      "cell_type": "code",
      "source": [
        "image_random = np.random.random((6,5))\n",
        "imshow(image_random)"
      ],
      "metadata": {
        "colab": {
          "base_uri": "https://localhost:8080/",
          "height": 448
        },
        "id": "PsE9IKNUFAVy",
        "outputId": "2266b415-4c60-4a05-af65-59dbcf9f50ae"
      },
      "execution_count": 25,
      "outputs": [
        {
          "output_type": "execute_result",
          "data": {
            "text/plain": [
              "<matplotlib.image.AxesImage at 0x7d729747b7d0>"
            ]
          },
          "metadata": {},
          "execution_count": 25
        },
        {
          "output_type": "display_data",
          "data": {
            "text/plain": [
              "<Figure size 640x480 with 1 Axes>"
            ],
            "image/png": "[encoded data removed]"
          },
          "metadata": {}
        }
      ]
    },
    {
      "cell_type": "code",
      "source": [
        "image_size2 = ()"
      ],
      "metadata": {
        "id": "1hqL2Mm5FOk3"
      },
      "execution_count": null,
      "outputs": []
    }
  ]
}